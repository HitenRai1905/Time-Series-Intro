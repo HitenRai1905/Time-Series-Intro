{
 "cells": [
  {
   "cell_type": "code",
   "execution_count": 47,
   "id": "0569ac52",
   "metadata": {},
   "outputs": [],
   "source": [
    "#!pip install pmdarima"
   ]
  },
  {
   "cell_type": "code",
   "execution_count": 48,
   "id": "66a26715",
   "metadata": {},
   "outputs": [],
   "source": [
    "import pandas as pd\n",
    "import numpy as np"
   ]
  },
  {
   "cell_type": "code",
   "execution_count": 49,
   "id": "4a987f51",
   "metadata": {},
   "outputs": [
    {
     "data": {
      "text/html": [
       "<div>\n",
       "<style scoped>\n",
       "    .dataframe tbody tr th:only-of-type {\n",
       "        vertical-align: middle;\n",
       "    }\n",
       "\n",
       "    .dataframe tbody tr th {\n",
       "        vertical-align: top;\n",
       "    }\n",
       "\n",
       "    .dataframe thead th {\n",
       "        text-align: right;\n",
       "    }\n",
       "</style>\n",
       "<table border=\"1\" class=\"dataframe\">\n",
       "  <thead>\n",
       "    <tr style=\"text-align: right;\">\n",
       "      <th></th>\n",
       "      <th>MinTemp</th>\n",
       "      <th>MaxTemp</th>\n",
       "      <th>AvgTemp</th>\n",
       "      <th>Sunrise</th>\n",
       "      <th>Sunset</th>\n",
       "    </tr>\n",
       "    <tr>\n",
       "      <th>DATE</th>\n",
       "      <th></th>\n",
       "      <th></th>\n",
       "      <th></th>\n",
       "      <th></th>\n",
       "      <th></th>\n",
       "    </tr>\n",
       "  </thead>\n",
       "  <tbody>\n",
       "    <tr>\n",
       "      <th>2014-01-01</th>\n",
       "      <td>33.0</td>\n",
       "      <td>46.0</td>\n",
       "      <td>40.0</td>\n",
       "      <td>657</td>\n",
       "      <td>1756</td>\n",
       "    </tr>\n",
       "    <tr>\n",
       "      <th>2014-01-02</th>\n",
       "      <td>35.0</td>\n",
       "      <td>50.0</td>\n",
       "      <td>43.0</td>\n",
       "      <td>657</td>\n",
       "      <td>1756</td>\n",
       "    </tr>\n",
       "    <tr>\n",
       "      <th>2014-01-03</th>\n",
       "      <td>36.0</td>\n",
       "      <td>45.0</td>\n",
       "      <td>41.0</td>\n",
       "      <td>657</td>\n",
       "      <td>1757</td>\n",
       "    </tr>\n",
       "    <tr>\n",
       "      <th>2014-01-04</th>\n",
       "      <td>32.0</td>\n",
       "      <td>41.0</td>\n",
       "      <td>37.0</td>\n",
       "      <td>658</td>\n",
       "      <td>1757</td>\n",
       "    </tr>\n",
       "    <tr>\n",
       "      <th>2014-01-05</th>\n",
       "      <td>24.0</td>\n",
       "      <td>38.0</td>\n",
       "      <td>31.0</td>\n",
       "      <td>658</td>\n",
       "      <td>1758</td>\n",
       "    </tr>\n",
       "    <tr>\n",
       "      <th>...</th>\n",
       "      <td>...</td>\n",
       "      <td>...</td>\n",
       "      <td>...</td>\n",
       "      <td>...</td>\n",
       "      <td>...</td>\n",
       "    </tr>\n",
       "    <tr>\n",
       "      <th>2018-12-26</th>\n",
       "      <td>35.0</td>\n",
       "      <td>45.0</td>\n",
       "      <td>40.0</td>\n",
       "      <td>654</td>\n",
       "      <td>1752</td>\n",
       "    </tr>\n",
       "    <tr>\n",
       "      <th>2018-12-27</th>\n",
       "      <td>33.0</td>\n",
       "      <td>44.0</td>\n",
       "      <td>39.0</td>\n",
       "      <td>655</td>\n",
       "      <td>1752</td>\n",
       "    </tr>\n",
       "    <tr>\n",
       "      <th>2018-12-28</th>\n",
       "      <td>33.0</td>\n",
       "      <td>47.0</td>\n",
       "      <td>40.0</td>\n",
       "      <td>655</td>\n",
       "      <td>1753</td>\n",
       "    </tr>\n",
       "    <tr>\n",
       "      <th>2018-12-29</th>\n",
       "      <td>36.0</td>\n",
       "      <td>47.0</td>\n",
       "      <td>42.0</td>\n",
       "      <td>655</td>\n",
       "      <td>1753</td>\n",
       "    </tr>\n",
       "    <tr>\n",
       "      <th>2018-12-30</th>\n",
       "      <td>39.0</td>\n",
       "      <td>52.0</td>\n",
       "      <td>46.0</td>\n",
       "      <td>656</td>\n",
       "      <td>1754</td>\n",
       "    </tr>\n",
       "  </tbody>\n",
       "</table>\n",
       "<p>1825 rows × 5 columns</p>\n",
       "</div>"
      ],
      "text/plain": [
       "            MinTemp  MaxTemp  AvgTemp  Sunrise  Sunset\n",
       "DATE                                                  \n",
       "2014-01-01     33.0     46.0     40.0      657    1756\n",
       "2014-01-02     35.0     50.0     43.0      657    1756\n",
       "2014-01-03     36.0     45.0     41.0      657    1757\n",
       "2014-01-04     32.0     41.0     37.0      658    1757\n",
       "2014-01-05     24.0     38.0     31.0      658    1758\n",
       "...             ...      ...      ...      ...     ...\n",
       "2018-12-26     35.0     45.0     40.0      654    1752\n",
       "2018-12-27     33.0     44.0     39.0      655    1752\n",
       "2018-12-28     33.0     47.0     40.0      655    1753\n",
       "2018-12-29     36.0     47.0     42.0      655    1753\n",
       "2018-12-30     39.0     52.0     46.0      656    1754\n",
       "\n",
       "[1825 rows x 5 columns]"
      ]
     },
     "execution_count": 49,
     "metadata": {},
     "output_type": "execute_result"
    }
   ],
   "source": [
    "df = pd.read_csv(\"MaunaLoaDailyTemps.csv\",index_col='DATE',parse_dates=True)\n",
    "df"
   ]
  },
  {
   "cell_type": "code",
   "execution_count": 50,
   "id": "4a7ceb5f",
   "metadata": {},
   "outputs": [],
   "source": [
    "df = df.dropna()"
   ]
  },
  {
   "cell_type": "code",
   "execution_count": 51,
   "id": "747e093f",
   "metadata": {},
   "outputs": [
    {
     "data": {
      "text/html": [
       "<div>\n",
       "<style scoped>\n",
       "    .dataframe tbody tr th:only-of-type {\n",
       "        vertical-align: middle;\n",
       "    }\n",
       "\n",
       "    .dataframe tbody tr th {\n",
       "        vertical-align: top;\n",
       "    }\n",
       "\n",
       "    .dataframe thead th {\n",
       "        text-align: right;\n",
       "    }\n",
       "</style>\n",
       "<table border=\"1\" class=\"dataframe\">\n",
       "  <thead>\n",
       "    <tr style=\"text-align: right;\">\n",
       "      <th></th>\n",
       "      <th>MinTemp</th>\n",
       "      <th>MaxTemp</th>\n",
       "      <th>AvgTemp</th>\n",
       "      <th>Sunrise</th>\n",
       "      <th>Sunset</th>\n",
       "    </tr>\n",
       "    <tr>\n",
       "      <th>DATE</th>\n",
       "      <th></th>\n",
       "      <th></th>\n",
       "      <th></th>\n",
       "      <th></th>\n",
       "      <th></th>\n",
       "    </tr>\n",
       "  </thead>\n",
       "  <tbody>\n",
       "    <tr>\n",
       "      <th>2014-01-01</th>\n",
       "      <td>33.0</td>\n",
       "      <td>46.0</td>\n",
       "      <td>40.0</td>\n",
       "      <td>657</td>\n",
       "      <td>1756</td>\n",
       "    </tr>\n",
       "    <tr>\n",
       "      <th>2014-01-02</th>\n",
       "      <td>35.0</td>\n",
       "      <td>50.0</td>\n",
       "      <td>43.0</td>\n",
       "      <td>657</td>\n",
       "      <td>1756</td>\n",
       "    </tr>\n",
       "    <tr>\n",
       "      <th>2014-01-03</th>\n",
       "      <td>36.0</td>\n",
       "      <td>45.0</td>\n",
       "      <td>41.0</td>\n",
       "      <td>657</td>\n",
       "      <td>1757</td>\n",
       "    </tr>\n",
       "    <tr>\n",
       "      <th>2014-01-04</th>\n",
       "      <td>32.0</td>\n",
       "      <td>41.0</td>\n",
       "      <td>37.0</td>\n",
       "      <td>658</td>\n",
       "      <td>1757</td>\n",
       "    </tr>\n",
       "    <tr>\n",
       "      <th>2014-01-05</th>\n",
       "      <td>24.0</td>\n",
       "      <td>38.0</td>\n",
       "      <td>31.0</td>\n",
       "      <td>658</td>\n",
       "      <td>1758</td>\n",
       "    </tr>\n",
       "  </tbody>\n",
       "</table>\n",
       "</div>"
      ],
      "text/plain": [
       "            MinTemp  MaxTemp  AvgTemp  Sunrise  Sunset\n",
       "DATE                                                  \n",
       "2014-01-01     33.0     46.0     40.0      657    1756\n",
       "2014-01-02     35.0     50.0     43.0      657    1756\n",
       "2014-01-03     36.0     45.0     41.0      657    1757\n",
       "2014-01-04     32.0     41.0     37.0      658    1757\n",
       "2014-01-05     24.0     38.0     31.0      658    1758"
      ]
     },
     "execution_count": 51,
     "metadata": {},
     "output_type": "execute_result"
    }
   ],
   "source": [
    "df.head()"
   ]
  },
  {
   "cell_type": "code",
   "execution_count": 52,
   "id": "f9700db4",
   "metadata": {},
   "outputs": [
    {
     "data": {
      "text/plain": [
       "<AxesSubplot:xlabel='DATE'>"
      ]
     },
     "execution_count": 52,
     "metadata": {},
     "output_type": "execute_result"
    },
    {
     "data": {
      "image/png": "[encoded data removed]",
      "text/plain": [
       "<Figure size 864x360 with 1 Axes>"
      ]
     },
     "metadata": {
      "needs_background": "light"
     },
     "output_type": "display_data"
    }
   ],
   "source": [
    "df['AvgTemp'].plot(figsize=(12,5))"
   ]
  },
  {
   "cell_type": "code",
   "execution_count": 53,
   "id": "ee1ec581",
   "metadata": {},
   "outputs": [],
   "source": [
    "from statsmodels.tsa.stattools import adfuller\n",
    "\n",
    "def adf_test(dataset):\n",
    "      dftest = adfuller(dataset, autolag = 'AIC')\n",
    "      print(\"1. ADF : \",dftest[0])\n",
    "      print(\"2. P-Value : \", dftest[1])\n",
    "      print(\"3. Num Of Lags : \", dftest[2])\n",
    "      print(\"4. Num Of Observations Used For ADF Regression and Critical Values Calculation :\", dftest[3])\n",
    "      print(\"5. Critical Values :\")\n",
    "      for key, val in dftest[4].items():\n",
    "          print(\"\\t\",key, \": \", val)"
   ]
  },
  {
   "cell_type": "code",
   "execution_count": 54,
   "id": "2f429f19",
   "metadata": {},
   "outputs": [
    {
     "name": "stdout",
     "output_type": "stream",
     "text": [
      "1. ADF :  -6.554680125068785\n",
      "2. P-Value :  8.675937480199322e-09\n",
      "3. Num Of Lags :  12\n",
      "4. Num Of Observations Used For ADF Regression and Critical Values Calculation : 1808\n",
      "5. Critical Values :\n",
      "\t 1% :  -3.433972018026501\n",
      "\t 5% :  -2.8631399192826676\n",
      "\t 10% :  -2.5676217442756872\n"
     ]
    }
   ],
   "source": [
    "adf_test(df['AvgTemp'])"
   ]
  },
  {
   "cell_type": "code",
   "execution_count": 55,
   "id": "5047c0f5",
   "metadata": {},
   "outputs": [],
   "source": [
    "from pmdarima import auto_arima\n",
    "import warnings\n",
    "warnings.filterwarnings(\"ignore\")"
   ]
  },
  {
   "cell_type": "code",
   "execution_count": 58,
   "id": "2e36f97f",
   "metadata": {},
   "outputs": [
    {
     "name": "stdout",
     "output_type": "stream",
     "text": [
      "Performing stepwise search to minimize aic\n",
      " ARIMA(2,0,2)(0,0,0)[0] intercept   : AIC=8344.256, Time=1.46 sec\n",
      " ARIMA(0,0,0)(0,0,0)[0] intercept   : AIC=10347.755, Time=0.03 sec\n",
      " ARIMA(1,0,0)(0,0,0)[0] intercept   : AIC=8365.701, Time=0.16 sec\n",
      " ARIMA(0,0,1)(0,0,0)[0] intercept   : AIC=9136.225, Time=0.21 sec\n",
      " ARIMA(0,0,0)(0,0,0)[0]             : AIC=19192.139, Time=0.02 sec\n",
      " ARIMA(1,0,2)(0,0,0)[0] intercept   : AIC=8355.947, Time=1.10 sec\n",
      " ARIMA(2,0,1)(0,0,0)[0] intercept   : AIC=8356.308, Time=1.28 sec\n",
      " ARIMA(3,0,2)(0,0,0)[0] intercept   : AIC=8347.340, Time=1.83 sec\n",
      " ARIMA(2,0,3)(0,0,0)[0] intercept   : AIC=8317.656, Time=1.78 sec\n",
      " ARIMA(1,0,3)(0,0,0)[0] intercept   : AIC=8330.198, Time=1.69 sec\n",
      " ARIMA(3,0,3)(0,0,0)[0] intercept   : AIC=8310.726, Time=2.15 sec\n",
      " ARIMA(4,0,3)(0,0,0)[0] intercept   : AIC=8332.415, Time=2.25 sec\n",
      " ARIMA(3,0,4)(0,0,0)[0] intercept   : AIC=8317.632, Time=2.31 sec\n",
      " ARIMA(2,0,4)(0,0,0)[0] intercept   : AIC=8304.758, Time=1.99 sec\n",
      " ARIMA(1,0,4)(0,0,0)[0] intercept   : AIC=8296.723, Time=1.83 sec\n",
      " ARIMA(0,0,4)(0,0,0)[0] intercept   : AIC=8455.435, Time=0.53 sec\n",
      " ARIMA(1,0,5)(0,0,0)[0] intercept   : AIC=8295.717, Time=2.13 sec\n",
      " ARIMA(0,0,5)(0,0,0)[0] intercept   : AIC=8419.091, Time=0.60 sec\n",
      " ARIMA(2,0,5)(0,0,0)[0] intercept   : AIC=8302.249, Time=2.35 sec\n",
      " ARIMA(1,0,5)(0,0,0)[0]             : AIC=8304.533, Time=0.26 sec\n",
      "\n",
      "Best model:  ARIMA(1,0,5)(0,0,0)[0] intercept\n",
      "Total fit time: 25.961 seconds\n"
     ]
    },
    {
     "data": {
      "text/html": [
       "<table class=\"simpletable\">\n",
       "<caption>SARIMAX Results</caption>\n",
       "<tr>\n",
       "  <th>Dep. Variable:</th>           <td>y</td>        <th>  No. Observations:  </th>   <td>1821</td>   \n",
       "</tr>\n",
       "<tr>\n",
       "  <th>Model:</th>           <td>SARIMAX(1, 0, 5)</td> <th>  Log Likelihood     </th> <td>-4139.858</td>\n",
       "</tr>\n",
       "<tr>\n",
       "  <th>Date:</th>            <td>Fri, 15 Apr 2022</td> <th>  AIC                </th> <td>8295.717</td> \n",
       "</tr>\n",
       "<tr>\n",
       "  <th>Time:</th>                <td>22:45:22</td>     <th>  BIC                </th> <td>8339.774</td> \n",
       "</tr>\n",
       "<tr>\n",
       "  <th>Sample:</th>                  <td>0</td>        <th>  HQIC               </th> <td>8311.970</td> \n",
       "</tr>\n",
       "<tr>\n",
       "  <th></th>                      <td> - 1821</td>     <th>                     </th>     <td> </td>    \n",
       "</tr>\n",
       "<tr>\n",
       "  <th>Covariance Type:</th>        <td>opg</td>       <th>                     </th>     <td> </td>    \n",
       "</tr>\n",
       "</table>\n",
       "<table class=\"simpletable\">\n",
       "<tr>\n",
       "      <td></td>         <th>coef</th>     <th>std err</th>      <th>z</th>      <th>P>|z|</th>  <th>[0.025</th>    <th>0.975]</th>  \n",
       "</tr>\n",
       "<tr>\n",
       "  <th>intercept</th> <td>    1.2741</td> <td>    0.372</td> <td>    3.422</td> <td> 0.001</td> <td>    0.544</td> <td>    2.004</td>\n",
       "</tr>\n",
       "<tr>\n",
       "  <th>ar.L1</th>     <td>    0.9726</td> <td>    0.008</td> <td>  121.330</td> <td> 0.000</td> <td>    0.957</td> <td>    0.988</td>\n",
       "</tr>\n",
       "<tr>\n",
       "  <th>ma.L1</th>     <td>   -0.1326</td> <td>    0.024</td> <td>   -5.597</td> <td> 0.000</td> <td>   -0.179</td> <td>   -0.086</td>\n",
       "</tr>\n",
       "<tr>\n",
       "  <th>ma.L2</th>     <td>   -0.2240</td> <td>    0.024</td> <td>   -9.282</td> <td> 0.000</td> <td>   -0.271</td> <td>   -0.177</td>\n",
       "</tr>\n",
       "<tr>\n",
       "  <th>ma.L3</th>     <td>   -0.1949</td> <td>    0.024</td> <td>   -8.134</td> <td> 0.000</td> <td>   -0.242</td> <td>   -0.148</td>\n",
       "</tr>\n",
       "<tr>\n",
       "  <th>ma.L4</th>     <td>   -0.1428</td> <td>    0.023</td> <td>   -6.282</td> <td> 0.000</td> <td>   -0.187</td> <td>   -0.098</td>\n",
       "</tr>\n",
       "<tr>\n",
       "  <th>ma.L5</th>     <td>   -0.0351</td> <td>    0.024</td> <td>   -1.437</td> <td> 0.151</td> <td>   -0.083</td> <td>    0.013</td>\n",
       "</tr>\n",
       "<tr>\n",
       "  <th>sigma2</th>    <td>    5.4969</td> <td>    0.172</td> <td>   31.951</td> <td> 0.000</td> <td>    5.160</td> <td>    5.834</td>\n",
       "</tr>\n",
       "</table>\n",
       "<table class=\"simpletable\">\n",
       "<tr>\n",
       "  <th>Ljung-Box (L1) (Q):</th>     <td>0.13</td> <th>  Jarque-Bera (JB):  </th> <td>20.61</td>\n",
       "</tr>\n",
       "<tr>\n",
       "  <th>Prob(Q):</th>                <td>0.72</td> <th>  Prob(JB):          </th> <td>0.00</td> \n",
       "</tr>\n",
       "<tr>\n",
       "  <th>Heteroskedasticity (H):</th> <td>0.81</td> <th>  Skew:              </th> <td>-0.17</td>\n",
       "</tr>\n",
       "<tr>\n",
       "  <th>Prob(H) (two-sided):</th>    <td>0.01</td> <th>  Kurtosis:          </th> <td>3.39</td> \n",
       "</tr>\n",
       "</table><br/><br/>Warnings:<br/>[1] Covariance matrix calculated using the outer product of gradients (complex-step)."
      ],
      "text/plain": [
       "<class 'statsmodels.iolib.summary.Summary'>\n",
       "\"\"\"\n",
       "                               SARIMAX Results                                \n",
       "==============================================================================\n",
       "Dep. Variable:                      y   No. Observations:                 1821\n",
       "Model:               SARIMAX(1, 0, 5)   Log Likelihood               -4139.858\n",
       "Date:                Fri, 15 Apr 2022   AIC                           8295.717\n",
       "Time:                        22:45:22   BIC                           8339.774\n",
       "Sample:                             0   HQIC                          8311.970\n",
       "                               - 1821                                         \n",
       "Covariance Type:                  opg                                         \n",
       "==============================================================================\n",
       "                 coef    std err          z      P>|z|      [0.025      0.975]\n",
       "------------------------------------------------------------------------------\n",
       "intercept      1.2741      0.372      3.422      0.001       0.544       2.004\n",
       "ar.L1          0.9726      0.008    121.330      0.000       0.957       0.988\n",
       "ma.L1         -0.1326      0.024     -5.597      0.000      -0.179      -0.086\n",
       "ma.L2         -0.2240      0.024     -9.282      0.000      -0.271      -0.177\n",
       "ma.L3         -0.1949      0.024     -8.134      0.000      -0.242      -0.148\n",
       "ma.L4         -0.1428      0.023     -6.282      0.000      -0.187      -0.098\n",
       "ma.L5         -0.0351      0.024     -1.437      0.151      -0.083       0.013\n",
       "sigma2         5.4969      0.172     31.951      0.000       5.160       5.834\n",
       "===================================================================================\n",
       "Ljung-Box (L1) (Q):                   0.13   Jarque-Bera (JB):                20.61\n",
       "Prob(Q):                              0.72   Prob(JB):                         0.00\n",
       "Heteroskedasticity (H):               0.81   Skew:                            -0.17\n",
       "Prob(H) (two-sided):                  0.01   Kurtosis:                         3.39\n",
       "===================================================================================\n",
       "\n",
       "Warnings:\n",
       "[1] Covariance matrix calculated using the outer product of gradients (complex-step).\n",
       "\"\"\""
      ]
     },
     "execution_count": 58,
     "metadata": {},
     "output_type": "execute_result"
    }
   ],
   "source": [
    "stepwise_fit = auto_arima(df['AvgTemp'],trace =True,\n",
    "                          suppress_warnings=True)           \n",
    "\n",
    "stepwise_fit.summary()\n"
   ]
  },
  {
   "cell_type": "code",
   "execution_count": 62,
   "id": "63a29a86",
   "metadata": {},
   "outputs": [],
   "source": [
    "train=df.iloc[:-30]\n",
    "test=df.iloc[-30:]"
   ]
  },
  {
   "cell_type": "code",
   "execution_count": 63,
   "id": "713b2804",
   "metadata": {},
   "outputs": [
    {
     "data": {
      "text/html": [
       "<table class=\"simpletable\">\n",
       "<caption>ARMA Model Results</caption>\n",
       "<tr>\n",
       "  <th>Dep. Variable:</th>      <td>AvgTemp</td>     <th>  No. Observations:  </th>   <td>1791</td>   \n",
       "</tr>\n",
       "<tr>\n",
       "  <th>Model:</th>            <td>ARMA(1, 5)</td>    <th>  Log Likelihood     </th> <td>-4070.198</td>\n",
       "</tr>\n",
       "<tr>\n",
       "  <th>Method:</th>             <td>css-mle</td>     <th>  S.D. of innovations</th>   <td>2.347</td>  \n",
       "</tr>\n",
       "<tr>\n",
       "  <th>Date:</th>          <td>Fri, 15 Apr 2022</td> <th>  AIC                </th> <td>8156.395</td> \n",
       "</tr>\n",
       "<tr>\n",
       "  <th>Time:</th>              <td>22:45:57</td>     <th>  BIC                </th> <td>8200.320</td> \n",
       "</tr>\n",
       "<tr>\n",
       "  <th>Sample:</th>                <td>0</td>        <th>  HQIC               </th> <td>8172.614</td> \n",
       "</tr>\n",
       "<tr>\n",
       "  <th></th>                       <td> </td>        <th>                     </th>     <td> </td>    \n",
       "</tr>\n",
       "</table>\n",
       "<table class=\"simpletable\">\n",
       "<tr>\n",
       "        <td></td>           <th>coef</th>     <th>std err</th>      <th>z</th>      <th>P>|z|</th>  <th>[0.025</th>    <th>0.975]</th>  \n",
       "</tr>\n",
       "<tr>\n",
       "  <th>const</th>         <td>   46.5857</td> <td>    0.785</td> <td>   59.355</td> <td> 0.000</td> <td>   45.047</td> <td>   48.124</td>\n",
       "</tr>\n",
       "<tr>\n",
       "  <th>ar.L1.AvgTemp</th> <td>    0.9856</td> <td>    0.007</td> <td>  150.630</td> <td> 0.000</td> <td>    0.973</td> <td>    0.998</td>\n",
       "</tr>\n",
       "<tr>\n",
       "  <th>ma.L1.AvgTemp</th> <td>   -0.1412</td> <td>    0.025</td> <td>   -5.735</td> <td> 0.000</td> <td>   -0.190</td> <td>   -0.093</td>\n",
       "</tr>\n",
       "<tr>\n",
       "  <th>ma.L2.AvgTemp</th> <td>   -0.2268</td> <td>    0.024</td> <td>   -9.295</td> <td> 0.000</td> <td>   -0.275</td> <td>   -0.179</td>\n",
       "</tr>\n",
       "<tr>\n",
       "  <th>ma.L3.AvgTemp</th> <td>   -0.2168</td> <td>    0.026</td> <td>   -8.416</td> <td> 0.000</td> <td>   -0.267</td> <td>   -0.166</td>\n",
       "</tr>\n",
       "<tr>\n",
       "  <th>ma.L4.AvgTemp</th> <td>   -0.1479</td> <td>    0.023</td> <td>   -6.300</td> <td> 0.000</td> <td>   -0.194</td> <td>   -0.102</td>\n",
       "</tr>\n",
       "<tr>\n",
       "  <th>ma.L5.AvgTemp</th> <td>   -0.0595</td> <td>    0.025</td> <td>   -2.411</td> <td> 0.016</td> <td>   -0.108</td> <td>   -0.011</td>\n",
       "</tr>\n",
       "</table>\n",
       "<table class=\"simpletable\">\n",
       "<caption>Roots</caption>\n",
       "<tr>\n",
       "    <td></td>   <th>            Real</th>  <th>         Imaginary</th> <th>         Modulus</th>  <th>        Frequency</th>\n",
       "</tr>\n",
       "<tr>\n",
       "  <th>AR.1</th> <td>           1.0146</td> <td>          +0.0000j</td> <td>           1.0146</td> <td>           0.0000</td>\n",
       "</tr>\n",
       "<tr>\n",
       "  <th>MA.1</th> <td>           1.0883</td> <td>          -0.0000j</td> <td>           1.0883</td> <td>          -0.0000</td>\n",
       "</tr>\n",
       "<tr>\n",
       "  <th>MA.2</th> <td>           0.0555</td> <td>          -1.8423j</td> <td>           1.8431</td> <td>          -0.2452</td>\n",
       "</tr>\n",
       "<tr>\n",
       "  <th>MA.3</th> <td>           0.0555</td> <td>          +1.8423j</td> <td>           1.8431</td> <td>           0.2452</td>\n",
       "</tr>\n",
       "<tr>\n",
       "  <th>MA.4</th> <td>          -1.8432</td> <td>          -1.0734j</td> <td>           2.1330</td> <td>          -0.4161</td>\n",
       "</tr>\n",
       "<tr>\n",
       "  <th>MA.5</th> <td>          -1.8432</td> <td>          +1.0734j</td> <td>           2.1330</td> <td>           0.4161</td>\n",
       "</tr>\n",
       "</table>"
      ],
      "text/plain": [
       "<class 'statsmodels.iolib.summary.Summary'>\n",
       "\"\"\"\n",
       "                              ARMA Model Results                              \n",
       "==============================================================================\n",
       "Dep. Variable:                AvgTemp   No. Observations:                 1791\n",
       "Model:                     ARMA(1, 5)   Log Likelihood               -4070.198\n",
       "Method:                       css-mle   S.D. of innovations              2.347\n",
       "Date:                Fri, 15 Apr 2022   AIC                           8156.395\n",
       "Time:                        22:45:57   BIC                           8200.320\n",
       "Sample:                             0   HQIC                          8172.614\n",
       "                                                                              \n",
       "=================================================================================\n",
       "                    coef    std err          z      P>|z|      [0.025      0.975]\n",
       "---------------------------------------------------------------------------------\n",
       "const            46.5857      0.785     59.355      0.000      45.047      48.124\n",
       "ar.L1.AvgTemp     0.9856      0.007    150.630      0.000       0.973       0.998\n",
       "ma.L1.AvgTemp    -0.1412      0.025     -5.735      0.000      -0.190      -0.093\n",
       "ma.L2.AvgTemp    -0.2268      0.024     -9.295      0.000      -0.275      -0.179\n",
       "ma.L3.AvgTemp    -0.2168      0.026     -8.416      0.000      -0.267      -0.166\n",
       "ma.L4.AvgTemp    -0.1479      0.023     -6.300      0.000      -0.194      -0.102\n",
       "ma.L5.AvgTemp    -0.0595      0.025     -2.411      0.016      -0.108      -0.011\n",
       "                                    Roots                                    \n",
       "=============================================================================\n",
       "                  Real          Imaginary           Modulus         Frequency\n",
       "-----------------------------------------------------------------------------\n",
       "AR.1            1.0146           +0.0000j            1.0146            0.0000\n",
       "MA.1            1.0883           -0.0000j            1.0883           -0.0000\n",
       "MA.2            0.0555           -1.8423j            1.8431           -0.2452\n",
       "MA.3            0.0555           +1.8423j            1.8431            0.2452\n",
       "MA.4           -1.8432           -1.0734j            2.1330           -0.4161\n",
       "MA.5           -1.8432           +1.0734j            2.1330            0.4161\n",
       "-----------------------------------------------------------------------------\n",
       "\"\"\""
      ]
     },
     "execution_count": 63,
     "metadata": {},
     "output_type": "execute_result"
    }
   ],
   "source": [
    "from statsmodels.tsa.arima_model import ARIMA\n",
    "model=ARIMA(train['AvgTemp'],order=(1,0,5))\n",
    "model=model.fit()\n",
    "model.summary()"
   ]
  },
  {
   "cell_type": "code",
   "execution_count": 72,
   "id": "74114dfa",
   "metadata": {},
   "outputs": [
    {
     "name": "stdout",
     "output_type": "stream",
     "text": [
      "DATE\n",
      "2018-12-01    44.754157\n",
      "2018-12-02    44.987877\n",
      "2018-12-03    45.388842\n",
      "2018-12-04    45.721644\n",
      "2018-12-05    45.863822\n",
      "2018-12-06    45.874218\n",
      "2018-12-07    45.884464\n",
      "2018-12-08    45.894563\n",
      "2018-12-09    45.904516\n",
      "2018-12-10    45.914326\n",
      "2018-12-11    45.923995\n",
      "2018-12-12    45.933524\n",
      "2018-12-13    45.942916\n",
      "2018-12-14    45.952173\n",
      "2018-12-15    45.961297\n",
      "2018-12-16    45.970289\n",
      "2018-12-17    45.979152\n",
      "2018-12-18    45.987887\n",
      "2018-12-19    45.996496\n",
      "2018-12-20    46.004981\n",
      "2018-12-21    46.013344\n",
      "2018-12-22    46.021587\n",
      "2018-12-23    46.029711\n",
      "2018-12-24    46.037718\n",
      "2018-12-25    46.045610\n",
      "2018-12-26    46.053388\n",
      "2018-12-27    46.061054\n",
      "2018-12-28    46.068609\n",
      "2018-12-29    46.076056\n",
      "2018-12-30    46.083395\n",
      "Name: ARIMA predictions, dtype: float64\n"
     ]
    }
   ],
   "source": [
    "start = len(train)#length of training set ,i.e from where the training set ends\n",
    "end = len(train) + len(test) - 1#end of the dataset\n",
    "pred=model.predict(start=start,end=end,typ='levels').rename('ARIMA predictions')\n",
    "pred.index = df.index[start:end+1]\n",
    "print(pred)"
   ]
  },
  {
   "cell_type": "code",
   "execution_count": 69,
   "id": "c4b22b70",
   "metadata": {},
   "outputs": [
    {
     "data": {
      "text/plain": [
       "<AxesSubplot:xlabel='DATE'>"
      ]
     },
     "execution_count": 69,
     "metadata": {},
     "output_type": "execute_result"
    },
    {
     "data": {
      "image/png": "[encoded data removed]",
      "text/plain": [
       "<Figure size 432x288 with 1 Axes>"
      ]
     },
     "metadata": {
      "needs_background": "light"
     },
     "output_type": "display_data"
    }
   ],
   "source": [
    "pred.plot(legend = True)\n",
    "test['AvgTemp'].plot(legend = True)"
   ]
  },
  {
   "cell_type": "code",
   "execution_count": 73,
   "id": "5dd534bc",
   "metadata": {},
   "outputs": [
    {
     "data": {
      "text/plain": [
       "<AxesSubplot:xlabel='DATE'>"
      ]
     },
     "execution_count": 73,
     "metadata": {},
     "output_type": "execute_result"
    },
    {
     "data": {
      "image/png": "[encoded data removed]",
      "text/plain": [
       "<Figure size 432x288 with 1 Axes>"
      ]
     },
     "metadata": {
      "needs_background": "light"
     },
     "output_type": "display_data"
    }
   ],
   "source": [
    "pred.plot(legend='ARIMA Predictions')\n",
    "test['AvgTemp'].plot(legend=True)"
   ]
  },
  {
   "cell_type": "code",
   "execution_count": 74,
   "id": "468cc9b7",
   "metadata": {},
   "outputs": [
    {
     "data": {
      "text/plain": [
       "45.0"
      ]
     },
     "execution_count": 74,
     "metadata": {},
     "output_type": "execute_result"
    }
   ],
   "source": [
    "test['AvgTemp'].mean()"
   ]
  },
  {
   "cell_type": "code",
   "execution_count": 75,
   "id": "61b0ae75",
   "metadata": {},
   "outputs": [
    {
     "name": "stdout",
     "output_type": "stream",
     "text": [
      "3.0004996551238516\n"
     ]
    }
   ],
   "source": [
    "from sklearn.metrics import mean_squared_error\n",
    "from math import sqrt\n",
    "\n",
    "rmse = sqrt(mean_squared_error(pred,test['AvgTemp']))\n",
    "print(rmse)"
   ]
  },
  {
   "cell_type": "code",
   "execution_count": 80,
   "id": "37a373b1",
   "metadata": {},
   "outputs": [
    {
     "data": {
      "text/html": [
       "<table class=\"simpletable\">\n",
       "<caption>ARMA Model Results</caption>\n",
       "<tr>\n",
       "  <th>Dep. Variable:</th>      <td>AvgTemp</td>     <th>  No. Observations:  </th>   <td>1821</td>   \n",
       "</tr>\n",
       "<tr>\n",
       "  <th>Model:</th>            <td>ARMA(1, 5)</td>    <th>  Log Likelihood     </th> <td>-4138.130</td>\n",
       "</tr>\n",
       "<tr>\n",
       "  <th>Method:</th>             <td>css-mle</td>     <th>  S.D. of innovations</th>   <td>2.347</td>  \n",
       "</tr>\n",
       "<tr>\n",
       "  <th>Date:</th>          <td>Fri, 15 Apr 2022</td> <th>  AIC                </th> <td>8292.261</td> \n",
       "</tr>\n",
       "<tr>\n",
       "  <th>Time:</th>              <td>22:55:37</td>     <th>  BIC                </th> <td>8336.318</td> \n",
       "</tr>\n",
       "<tr>\n",
       "  <th>Sample:</th>                <td>0</td>        <th>  HQIC               </th> <td>8308.514</td> \n",
       "</tr>\n",
       "<tr>\n",
       "  <th></th>                       <td> </td>        <th>                     </th>     <td> </td>    \n",
       "</tr>\n",
       "</table>\n",
       "<table class=\"simpletable\">\n",
       "<tr>\n",
       "        <td></td>           <th>coef</th>     <th>std err</th>      <th>z</th>      <th>P>|z|</th>  <th>[0.025</th>    <th>0.975]</th>  \n",
       "</tr>\n",
       "<tr>\n",
       "  <th>const</th>         <td>   46.5294</td> <td>    0.787</td> <td>   59.148</td> <td> 0.000</td> <td>   44.988</td> <td>   48.071</td>\n",
       "</tr>\n",
       "<tr>\n",
       "  <th>ar.L1.AvgTemp</th> <td>    0.9860</td> <td>    0.006</td> <td>  155.003</td> <td> 0.000</td> <td>    0.974</td> <td>    0.998</td>\n",
       "</tr>\n",
       "<tr>\n",
       "  <th>ma.L1.AvgTemp</th> <td>   -0.1403</td> <td>    0.024</td> <td>   -5.754</td> <td> 0.000</td> <td>   -0.188</td> <td>   -0.092</td>\n",
       "</tr>\n",
       "<tr>\n",
       "  <th>ma.L2.AvgTemp</th> <td>   -0.2328</td> <td>    0.024</td> <td>   -9.641</td> <td> 0.000</td> <td>   -0.280</td> <td>   -0.185</td>\n",
       "</tr>\n",
       "<tr>\n",
       "  <th>ma.L3.AvgTemp</th> <td>   -0.2163</td> <td>    0.025</td> <td>   -8.502</td> <td> 0.000</td> <td>   -0.266</td> <td>   -0.166</td>\n",
       "</tr>\n",
       "<tr>\n",
       "  <th>ma.L4.AvgTemp</th> <td>   -0.1478</td> <td>    0.023</td> <td>   -6.352</td> <td> 0.000</td> <td>   -0.193</td> <td>   -0.102</td>\n",
       "</tr>\n",
       "<tr>\n",
       "  <th>ma.L5.AvgTemp</th> <td>   -0.0587</td> <td>    0.024</td> <td>   -2.413</td> <td> 0.016</td> <td>   -0.106</td> <td>   -0.011</td>\n",
       "</tr>\n",
       "</table>\n",
       "<table class=\"simpletable\">\n",
       "<caption>Roots</caption>\n",
       "<tr>\n",
       "    <td></td>   <th>            Real</th>  <th>         Imaginary</th> <th>         Modulus</th>  <th>        Frequency</th>\n",
       "</tr>\n",
       "<tr>\n",
       "  <th>AR.1</th> <td>           1.0142</td> <td>          +0.0000j</td> <td>           1.0142</td> <td>           0.0000</td>\n",
       "</tr>\n",
       "<tr>\n",
       "  <th>MA.1</th> <td>           1.0867</td> <td>          -0.0000j</td> <td>           1.0867</td> <td>          -0.0000</td>\n",
       "</tr>\n",
       "<tr>\n",
       "  <th>MA.2</th> <td>           0.0537</td> <td>          -1.8503j</td> <td>           1.8511</td> <td>          -0.2454</td>\n",
       "</tr>\n",
       "<tr>\n",
       "  <th>MA.3</th> <td>           0.0537</td> <td>          +1.8503j</td> <td>           1.8511</td> <td>           0.2454</td>\n",
       "</tr>\n",
       "<tr>\n",
       "  <th>MA.4</th> <td>          -1.8566</td> <td>          -1.0630j</td> <td>           2.1394</td> <td>          -0.4172</td>\n",
       "</tr>\n",
       "<tr>\n",
       "  <th>MA.5</th> <td>          -1.8566</td> <td>          +1.0630j</td> <td>           2.1394</td> <td>           0.4172</td>\n",
       "</tr>\n",
       "</table>"
      ],
      "text/plain": [
       "<class 'statsmodels.iolib.summary.Summary'>\n",
       "\"\"\"\n",
       "                              ARMA Model Results                              \n",
       "==============================================================================\n",
       "Dep. Variable:                AvgTemp   No. Observations:                 1821\n",
       "Model:                     ARMA(1, 5)   Log Likelihood               -4138.130\n",
       "Method:                       css-mle   S.D. of innovations              2.347\n",
       "Date:                Fri, 15 Apr 2022   AIC                           8292.261\n",
       "Time:                        22:55:37   BIC                           8336.318\n",
       "Sample:                             0   HQIC                          8308.514\n",
       "                                                                              \n",
       "=================================================================================\n",
       "                    coef    std err          z      P>|z|      [0.025      0.975]\n",
       "---------------------------------------------------------------------------------\n",
       "const            46.5294      0.787     59.148      0.000      44.988      48.071\n",
       "ar.L1.AvgTemp     0.9860      0.006    155.003      0.000       0.974       0.998\n",
       "ma.L1.AvgTemp    -0.1403      0.024     -5.754      0.000      -0.188      -0.092\n",
       "ma.L2.AvgTemp    -0.2328      0.024     -9.641      0.000      -0.280      -0.185\n",
       "ma.L3.AvgTemp    -0.2163      0.025     -8.502      0.000      -0.266      -0.166\n",
       "ma.L4.AvgTemp    -0.1478      0.023     -6.352      0.000      -0.193      -0.102\n",
       "ma.L5.AvgTemp    -0.0587      0.024     -2.413      0.016      -0.106      -0.011\n",
       "                                    Roots                                    \n",
       "=============================================================================\n",
       "                  Real          Imaginary           Modulus         Frequency\n",
       "-----------------------------------------------------------------------------\n",
       "AR.1            1.0142           +0.0000j            1.0142            0.0000\n",
       "MA.1            1.0867           -0.0000j            1.0867           -0.0000\n",
       "MA.2            0.0537           -1.8503j            1.8511           -0.2454\n",
       "MA.3            0.0537           +1.8503j            1.8511            0.2454\n",
       "MA.4           -1.8566           -1.0630j            2.1394           -0.4172\n",
       "MA.5           -1.8566           +1.0630j            2.1394            0.4172\n",
       "-----------------------------------------------------------------------------\n",
       "\"\"\""
      ]
     },
     "execution_count": 80,
     "metadata": {},
     "output_type": "execute_result"
    }
   ],
   "source": [
    "model1 = ARIMA(df['AvgTemp'],order=(1,0,5))\n",
    "model1 = model1.fit()\n",
    "model1.summary()"
   ]
  },
  {
   "cell_type": "code",
   "execution_count": 81,
   "id": "4059dd63",
   "metadata": {},
   "outputs": [
    {
     "data": {
      "text/html": [
       "<div>\n",
       "<style scoped>\n",
       "    .dataframe tbody tr th:only-of-type {\n",
       "        vertical-align: middle;\n",
       "    }\n",
       "\n",
       "    .dataframe tbody tr th {\n",
       "        vertical-align: top;\n",
       "    }\n",
       "\n",
       "    .dataframe thead th {\n",
       "        text-align: right;\n",
       "    }\n",
       "</style>\n",
       "<table border=\"1\" class=\"dataframe\">\n",
       "  <thead>\n",
       "    <tr style=\"text-align: right;\">\n",
       "      <th></th>\n",
       "      <th>MinTemp</th>\n",
       "      <th>MaxTemp</th>\n",
       "      <th>AvgTemp</th>\n",
       "      <th>Sunrise</th>\n",
       "      <th>Sunset</th>\n",
       "    </tr>\n",
       "    <tr>\n",
       "      <th>DATE</th>\n",
       "      <th></th>\n",
       "      <th></th>\n",
       "      <th></th>\n",
       "      <th></th>\n",
       "      <th></th>\n",
       "    </tr>\n",
       "  </thead>\n",
       "  <tbody>\n",
       "    <tr>\n",
       "      <th>2018-12-26</th>\n",
       "      <td>35.0</td>\n",
       "      <td>45.0</td>\n",
       "      <td>40.0</td>\n",
       "      <td>654</td>\n",
       "      <td>1752</td>\n",
       "    </tr>\n",
       "    <tr>\n",
       "      <th>2018-12-27</th>\n",
       "      <td>33.0</td>\n",
       "      <td>44.0</td>\n",
       "      <td>39.0</td>\n",
       "      <td>655</td>\n",
       "      <td>1752</td>\n",
       "    </tr>\n",
       "    <tr>\n",
       "      <th>2018-12-28</th>\n",
       "      <td>33.0</td>\n",
       "      <td>47.0</td>\n",
       "      <td>40.0</td>\n",
       "      <td>655</td>\n",
       "      <td>1753</td>\n",
       "    </tr>\n",
       "    <tr>\n",
       "      <th>2018-12-29</th>\n",
       "      <td>36.0</td>\n",
       "      <td>47.0</td>\n",
       "      <td>42.0</td>\n",
       "      <td>655</td>\n",
       "      <td>1753</td>\n",
       "    </tr>\n",
       "    <tr>\n",
       "      <th>2018-12-30</th>\n",
       "      <td>39.0</td>\n",
       "      <td>52.0</td>\n",
       "      <td>46.0</td>\n",
       "      <td>656</td>\n",
       "      <td>1754</td>\n",
       "    </tr>\n",
       "  </tbody>\n",
       "</table>\n",
       "</div>"
      ],
      "text/plain": [
       "            MinTemp  MaxTemp  AvgTemp  Sunrise  Sunset\n",
       "DATE                                                  \n",
       "2018-12-26     35.0     45.0     40.0      654    1752\n",
       "2018-12-27     33.0     44.0     39.0      655    1752\n",
       "2018-12-28     33.0     47.0     40.0      655    1753\n",
       "2018-12-29     36.0     47.0     42.0      655    1753\n",
       "2018-12-30     39.0     52.0     46.0      656    1754"
      ]
     },
     "execution_count": 81,
     "metadata": {},
     "output_type": "execute_result"
    }
   ],
   "source": [
    "df.tail()"
   ]
  },
  {
   "cell_type": "code",
   "execution_count": 84,
   "id": "9491f9f9",
   "metadata": {},
   "outputs": [
    {
     "name": "stdout",
     "output_type": "stream",
     "text": [
      "2018-12-30    46.418064\n",
      "2018-12-31    46.113784\n",
      "2019-01-01    45.617774\n",
      "2019-01-02    45.249558\n",
      "2019-01-03    45.116987\n",
      "2019-01-04    45.136774\n",
      "2019-01-05    45.156283\n",
      "2019-01-06    45.175519\n",
      "2019-01-07    45.194486\n",
      "2019-01-08    45.213187\n",
      "2019-01-09    45.231626\n",
      "2019-01-10    45.249807\n",
      "2019-01-11    45.267733\n",
      "2019-01-12    45.285408\n",
      "2019-01-13    45.302835\n",
      "2019-01-14    45.320018\n",
      "2019-01-15    45.336961\n",
      "2019-01-16    45.353666\n",
      "2019-01-17    45.370137\n",
      "2019-01-18    45.386377\n",
      "2019-01-19    45.402390\n",
      "2019-01-20    45.418178\n",
      "2019-01-21    45.433745\n",
      "2019-01-22    45.449094\n",
      "2019-01-23    45.464229\n",
      "2019-01-24    45.479151\n",
      "2019-01-25    45.493864\n",
      "2019-01-26    45.508371\n",
      "2019-01-27    45.522674\n",
      "2019-01-28    45.536777\n",
      "2019-01-29    45.550683\n",
      "Freq: D, Name: ARIMA Predictions, dtype: float64\n"
     ]
    }
   ],
   "source": [
    "start = len(df)\n",
    "end = len(df) + 30\n",
    "index_future_dates=pd.date_range(start='2018-12-30',end='2019-01-29')\n",
    "\n",
    "pred1 = model1.predict(start= start,end = end,typ = 'levels').rename('ARIMA Predictions')\n",
    "\n",
    "pred1.index = index_future_dates\n",
    "print(pred1)"
   ]
  },
  {
   "cell_type": "code",
   "execution_count": 85,
   "id": "0cac15ab",
   "metadata": {},
   "outputs": [
    {
     "data": {
      "text/plain": [
       "<AxesSubplot:>"
      ]
     },
     "execution_count": 85,
     "metadata": {},
     "output_type": "execute_result"
    },
    {
     "data": {
      "image/png": "[encoded data removed]",
      "text/plain": [
       "<Figure size 432x288 with 1 Axes>"
      ]
     },
     "metadata": {
      "needs_background": "light"
     },
     "output_type": "display_data"
    }
   ],
   "source": [
    "pred1.plot(legend = True)"
   ]
  },
  {
   "cell_type": "code",
   "execution_count": null,
   "id": "dd20aa32",
   "metadata": {},
   "outputs": [],
   "source": []
  }
 ],
 "metadata": {
  "kernelspec": {
   "display_name": "Python 3 (ipykernel)",
   "language": "python",
   "name": "python3"
  },
  "language_info": {
   "codemirror_mode": {
    "name": "ipython",
    "version": 3
   },
   "file_extension": ".py",
   "mimetype": "text/x-python",
   "name": "python",
   "nbconvert_exporter": "python",
   "pygments_lexer": "ipython3",
   "version": "3.9.7"
  }
 },
 "nbformat": 4,
 "nbformat_minor": 5
}
